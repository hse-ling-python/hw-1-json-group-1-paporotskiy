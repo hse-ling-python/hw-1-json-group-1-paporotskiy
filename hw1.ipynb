{
 "cells": [
  {
   "cell_type": "markdown",
   "metadata": {},
   "source": [
    "# Домашнее задание №1\n",
    "# Михаил Папоротский, БКЛ181"
   ]
  },
  {
   "cell_type": "markdown",
   "metadata": {},
   "source": [
    "## Введение\n",
    "Первым делом нужно подключить json и загрузить файл:"
   ]
  },
  {
   "cell_type": "code",
   "execution_count": 1,
   "metadata": {},
   "outputs": [],
   "source": [
    "import json\n",
    "\n",
    "twitter = []\n",
    "for line in open('hw_3_twitter.json'):\n",
    "    twitter.append(json.loads(line))"
   ]
  },
  {
   "cell_type": "markdown",
   "metadata": {},
   "source": [
    "## Первый пункт\n",
    "Считаем количество твитов в наборе и выводим его:"
   ]
  },
  {
   "cell_type": "code",
   "execution_count": 2,
   "metadata": {},
   "outputs": [
    {
     "name": "stdout",
     "output_type": "stream",
     "text": [
      "2556\n"
     ]
    }
   ],
   "source": [
    "tweets = len(twitter)\n",
    "print(tweets)"
   ]
  },
  {
   "cell_type": "markdown",
   "metadata": {},
   "source": [
    "## Второй пункт\n",
    "Считаем количество удаленных твитов:"
   ]
  },
  {
   "cell_type": "code",
   "execution_count": 3,
   "metadata": {},
   "outputs": [],
   "source": [
    "deleted_tweets = 0\n",
    "for tweet in twitter:\n",
    "    if 'delete' in tweet.keys():\n",
    "        deleted_tweets += 1"
   ]
  },
  {
   "cell_type": "markdown",
   "metadata": {},
   "source": [
    "А теперь делим на общее количество твитов и умножаем на 100, чтобы получить процент удаленных твитов, и выводим нужный нам процент (для удобства округляем вывод до двух цифр после запятой):\n"
   ]
  },
  {
   "cell_type": "code",
   "execution_count": 4,
   "metadata": {},
   "outputs": [
    {
     "name": "stdout",
     "output_type": "stream",
     "text": [
      "14.16\n"
     ]
    }
   ],
   "source": [
    "percentage_of_deleted_tweets = deleted_tweets / tweets * 100\n",
    "print(round(percentage_of_deleted_tweets, 2))"
   ]
  },
  {
   "cell_type": "markdown",
   "metadata": {},
   "source": [
    "## Третий пункт\n",
    "Создаем список из всех языков, на которых написаны твиты:"
   ]
  },
  {
   "cell_type": "code",
   "execution_count": 5,
   "metadata": {},
   "outputs": [],
   "source": [
    "languages = []\n",
    "for tweet in twitter:\n",
    "    if 'lang' in tweet.keys():\n",
    "        languages.append(tweet['lang'])"
   ]
  },
  {
   "cell_type": "markdown",
   "metadata": {},
   "source": [
    "Теперь делаем Counter из списка языков и выводим 10 самых популярных языков:"
   ]
  },
  {
   "cell_type": "code",
   "execution_count": 6,
   "metadata": {
    "scrolled": true
   },
   "outputs": [
    {
     "name": "stdout",
     "output_type": "stream",
     "text": [
      "en\t719\n",
      "ja\t438\n",
      "es\t173\n",
      "ko\t149\n",
      "th\t123\n",
      "ar\t119\n",
      "und\t117\n",
      "in\t71\n",
      "pt\t69\n",
      "fr\t35\n"
     ]
    }
   ],
   "source": [
    "import collections\n",
    "\n",
    "lang_counter = collections.Counter(languages).most_common()\n",
    "a = 0\n",
    "while a < 10:\n",
    "    print(lang_counter[a][0] + '\\t' + str(lang_counter[a][1]))\n",
    "    a += 1"
   ]
  },
  {
   "cell_type": "markdown",
   "metadata": {},
   "source": [
    "## Четвертый пункт\n",
    "Создаем список из id всех авторов твитов:"
   ]
  },
  {
   "cell_type": "code",
   "execution_count": 7,
   "metadata": {},
   "outputs": [],
   "source": [
    "users = []\n",
    "for tweet in twitter:\n",
    "    if 'user' in tweet.keys():\n",
    "        users.append(tweet['user']['id'])"
   ]
  },
  {
   "cell_type": "markdown",
   "metadata": {},
   "source": [
    "Теперь делаем Counter из списка id авторов твитов и смотрим, у какого количества пользователей есть больше чем один твит, выводим это число:"
   ]
  },
  {
   "cell_type": "code",
   "execution_count": 8,
   "metadata": {},
   "outputs": [
    {
     "name": "stdout",
     "output_type": "stream",
     "text": [
      "25\n"
     ]
    }
   ],
   "source": [
    "import collections\n",
    "\n",
    "users_counter = collections.Counter(users)\n",
    "multiple_tweets = []\n",
    "for i in range(len(users_counter.most_common())):\n",
    "    if users_counter.most_common()[i][1] > 1:\n",
    "        multiple_tweets.append(users_counter.most_common()[i][0])\n",
    "print(len(multiple_tweets))"
   ]
  },
  {
   "cell_type": "markdown",
   "metadata": {},
   "source": [
    "## Пятый пункт\n",
    "Сначала создаем список из списков, в которых хранится информация о хэштегах в каждом из твитов:"
   ]
  },
  {
   "cell_type": "code",
   "execution_count": 9,
   "metadata": {},
   "outputs": [],
   "source": [
    "hashtag_lists = []\n",
    "for tweet in twitter:\n",
    "    if 'entities' in tweet.keys():\n",
    "        hashtag_lists.append(tweet['entities']['hashtags'])"
   ]
  },
  {
   "cell_type": "markdown",
   "metadata": {},
   "source": [
    "Теперь проверяем эту информацию. Если в твите нет хэштега, то единица в hashtag_lists, соответствующая этому твиту, будет являться пустым списком. Если в твите есть хэштег(и), то единица в hashtag_lists будет являться списком из словарей, а каждый словарь будет соответствовать одному хэштегу. Достаем из этих словарей значение у ключа \"text\", которое и является текстом хэштега. Заносим все хэштеги в список."
   ]
  },
  {
   "cell_type": "code",
   "execution_count": 10,
   "metadata": {},
   "outputs": [],
   "source": [
    "hashtags = []\n",
    "for i in range(len(hashtag_lists)):\n",
    "    for g in hashtag_lists[i]:\n",
    "        if type(g) == dict:\n",
    "            hashtags.append(g['text'])"
   ]
  },
  {
   "cell_type": "markdown",
   "metadata": {},
   "source": [
    "Теперь делаем Counter из списка хэштегов и выводим топ-20 самых популярных:"
   ]
  },
  {
   "cell_type": "code",
   "execution_count": 11,
   "metadata": {},
   "outputs": [
    {
     "name": "stdout",
     "output_type": "stream",
     "text": [
      "BTS\t17\n",
      "방탄소년단\t13\n",
      "AMAs\t11\n",
      "人気投票ガチャ\t8\n",
      "태형\t7\n",
      "뷔\t6\n",
      "BTSinChicago\t5\n",
      "BTSLoveYourselfTour\t5\n",
      "오늘의방탄\t5\n",
      "PledgeForSwachhBharat\t5\n",
      "MPN\t5\n",
      "PCAs\t4\n",
      "V\t4\n",
      "시카고1회차공연\t4\n",
      "เป๊กผลิตโชค\t4\n",
      "JIMIN\t4\n",
      "running\t3\n",
      "NCT\t3\n",
      "지민\t3\n",
      "WajahmuPlastik\t3\n"
     ]
    }
   ],
   "source": [
    "import collections\n",
    "\n",
    "hashtags_counter = collections.Counter(hashtags).most_common()\n",
    "b = 0\n",
    "while b < 20:\n",
    "    print(hashtags_counter[b][0] + '\\t' + str(hashtags_counter[b][1]))\n",
    "    b += 1"
   ]
  },
  {
   "cell_type": "markdown",
   "metadata": {},
   "source": [
    "## Шестой пункт\n",
    "Сначала достаем все твиты на английском языке, которые не являются ретвитами или твитами-цитатами:"
   ]
  },
  {
   "cell_type": "code",
   "execution_count": 12,
   "metadata": {},
   "outputs": [],
   "source": [
    "texts = []\n",
    "for tweet in twitter:\n",
    "    if 'retweeted_status' not in tweet.keys():\n",
    "        if 'quoted_status' not in tweet.keys():\n",
    "            if 'text' in tweet.keys() and tweet['lang'] == 'en':\n",
    "                texts.append(tweet['text'])"
   ]
  },
  {
   "cell_type": "markdown",
   "metadata": {},
   "source": [
    "Теперь удаляем всю пунктуацию:"
   ]
  },
  {
   "cell_type": "code",
   "execution_count": 13,
   "metadata": {},
   "outputs": [],
   "source": [
    "import re\n",
    "\n",
    "fixed_texts = []\n",
    "for i in texts:\n",
    "    i = re.sub(r'[^\\w\\s]', '', i)\n",
    "    i = i.lower()\n",
    "    fixed_texts.append(i)"
   ]
  },
  {
   "cell_type": "markdown",
   "metadata": {},
   "source": [
    "И добавляем все слова в один список:"
   ]
  },
  {
   "cell_type": "code",
   "execution_count": 14,
   "metadata": {},
   "outputs": [],
   "source": [
    "words = []\n",
    "for i in fixed_texts:\n",
    "    i = i.split()\n",
    "    for g in i:\n",
    "        words.append(g)"
   ]
  },
  {
   "cell_type": "markdown",
   "metadata": {},
   "source": [
    "Делаем Counter из слов и выводим топ-20 самых частотных слов:"
   ]
  },
  {
   "cell_type": "code",
   "execution_count": 15,
   "metadata": {},
   "outputs": [
    {
     "name": "stdout",
     "output_type": "stream",
     "text": [
      "the\t107\n",
      "to\t79\n",
      "a\t67\n",
      "i\t61\n",
      "and\t58\n",
      "you\t46\n",
      "is\t41\n",
      "for\t40\n",
      "of\t40\n",
      "it\t38\n",
      "in\t32\n",
      "that\t30\n",
      "my\t26\n",
      "me\t26\n",
      "on\t25\n",
      "be\t22\n",
      "its\t21\n",
      "this\t20\n",
      "are\t20\n",
      "have\t19\n"
     ]
    }
   ],
   "source": [
    "import collections\n",
    "\n",
    "word_counter = collections.Counter(words).most_common()\n",
    "c = 0\n",
    "while c < 20:\n",
    "    print(word_counter[c][0] + '\\t' + str(word_counter[c][1]))\n",
    "    c += 1"
   ]
  },
  {
   "cell_type": "markdown",
   "metadata": {},
   "source": [
    "## Седьмой пункт\n",
    "Сначала делаем список из списков, где первое значение списка-элемента – юзернейм, а второе значение списка-элемента – число подписчиков:"
   ]
  },
  {
   "cell_type": "code",
   "execution_count": 16,
   "metadata": {},
   "outputs": [],
   "source": [
    "flwrs = []\n",
    "for i in twitter:\n",
    "    if 'user' in i.keys():\n",
    "        flwrs.append([i['user']['screen_name'], i['user']['followers_count']])"
   ]
  },
  {
   "cell_type": "markdown",
   "metadata": {},
   "source": [
    "Теперь нужно сделать так, чтобы один и тот же пользователь не встречался два раза:"
   ]
  },
  {
   "cell_type": "code",
   "execution_count": 17,
   "metadata": {},
   "outputs": [],
   "source": [
    "flwrs_b = []\n",
    "for i in flwrs:\n",
    "    if i not in flwrs_b:\n",
    "        flwrs_b.append(i)\n",
    "flwrs = flwrs_b"
   ]
  },
  {
   "cell_type": "markdown",
   "metadata": {},
   "source": [
    "Сортируем список по второму значению в списке-элементе:"
   ]
  },
  {
   "cell_type": "code",
   "execution_count": 18,
   "metadata": {},
   "outputs": [],
   "source": [
    "flwrs.sort(key=lambda x: int(x[1]), reverse=True)"
   ]
  },
  {
   "cell_type": "markdown",
   "metadata": {},
   "source": [
    "Выводим десять пользователей с самым большим количеством подписчиков:"
   ]
  },
  {
   "cell_type": "code",
   "execution_count": 19,
   "metadata": {},
   "outputs": [
    {
     "name": "stdout",
     "output_type": "stream",
     "text": [
      "FIL0S0FIA\t2521403\n",
      "FitnessMagazine\t1491309\n",
      "malaysiakini\t1206759\n",
      "NYTScience\t1137374\n",
      "GramaticaReal\t625463\n",
      "tgrthabertv\t392472\n",
      "TheSunFootball\t383698\n",
      "Melbourne\t374222\n",
      "Roznama_Express\t318189\n",
      "burger_boogie\t311319\n"
     ]
    }
   ],
   "source": [
    "d = 0\n",
    "while d < 10:\n",
    "    print(str(flwrs[d][0]) + '\\t' + str(flwrs[d][1]))\n",
    "    d += 1"
   ]
  },
  {
   "cell_type": "markdown",
   "metadata": {},
   "source": [
    "## Восьмой пункт"
   ]
  },
  {
   "cell_type": "markdown",
   "metadata": {},
   "source": [
    "Сначала найдем источник для каждого твита и поместим их в список"
   ]
  },
  {
   "cell_type": "code",
   "execution_count": 20,
   "metadata": {},
   "outputs": [],
   "source": [
    "import re\n",
    "\n",
    "apps = []\n",
    "for tweet in twitter:\n",
    "    if 'source' in tweet.keys():\n",
    "        match = re.search(r'>(.*?)<', tweet['source'])\n",
    "        app = match.group(1)\n",
    "        apps.append(app)"
   ]
  },
  {
   "cell_type": "markdown",
   "metadata": {},
   "source": [
    "Теперь делаем Counter из списка источников и выводим 10 самых популярных:"
   ]
  },
  {
   "cell_type": "code",
   "execution_count": 21,
   "metadata": {},
   "outputs": [
    {
     "name": "stdout",
     "output_type": "stream",
     "text": [
      "Twitter for iPhone\t800\n",
      "Twitter for Android\t695\n",
      "Twitter Web Client\t140\n",
      "twittbot.net\t122\n",
      "Twitter Lite\t51\n",
      "Twitter for iPad\t28\n",
      "TweetDeck\t23\n",
      "Facebook\t17\n",
      "IFTTT\t14\n",
      "تطبيق قرآني\t10\n"
     ]
    }
   ],
   "source": [
    "import collections\n",
    "\n",
    "app_counter = collections.Counter(apps).most_common()\n",
    "e = 0\n",
    "while e < 10:\n",
    "    print(app_counter[e][0] + '\\t' + str(app_counter[e][1]))\n",
    "    e += 1"
   ]
  }
 ],
 "metadata": {
  "kernelspec": {
   "display_name": "Python 3",
   "language": "python",
   "name": "python3"
  },
  "language_info": {
   "codemirror_mode": {
    "name": "ipython",
    "version": 3
   },
   "file_extension": ".py",
   "mimetype": "text/x-python",
   "name": "python",
   "nbconvert_exporter": "python",
   "pygments_lexer": "ipython3",
   "version": "3.6.7"
  }
 },
 "nbformat": 4,
 "nbformat_minor": 2
}
