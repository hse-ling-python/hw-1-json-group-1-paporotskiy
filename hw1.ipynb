{
 "cells": [
  {
   "cell_type": "markdown",
   "metadata": {},
   "source": [
    "# Домашнее задание №1\n",
    "# Михаил Папоротский, БКЛ181"
   ]
  },
  {
   "cell_type": "markdown",
   "metadata": {},
   "source": [
    "## Введение\n",
    "Первым делом нужно подключить json и загрузить файл:"
   ]
  },
  {
   "cell_type": "code",
   "execution_count": 194,
   "metadata": {},
   "outputs": [],
   "source": [
    "import json\n",
    "twitter = []\n",
    "for line in open('hw_3_twitter.json'):\n",
    "    twitter.append(json.loads(line))"
   ]
  },
  {
   "cell_type": "markdown",
   "metadata": {},
   "source": [
    "## Первый пункт\n",
    "Считаем количество твитов в наборе и выводим его:"
   ]
  },
  {
   "cell_type": "code",
   "execution_count": 195,
   "metadata": {},
   "outputs": [
    {
     "name": "stdout",
     "output_type": "stream",
     "text": [
      "2556\n"
     ]
    }
   ],
   "source": [
    "tweets = len(twitter)\n",
    "print(tweets)"
   ]
  },
  {
   "cell_type": "markdown",
   "metadata": {},
   "source": [
    "## Второй пункт\n",
    "Считаем количество удаленных твитов:"
   ]
  },
  {
   "cell_type": "code",
   "execution_count": 196,
   "metadata": {},
   "outputs": [],
   "source": [
    "deleted_tweets = 0\n",
    "for tweet in twitter:\n",
    "    if 'delete' in tweet.keys():\n",
    "        deleted_tweets += 1"
   ]
  },
  {
   "cell_type": "markdown",
   "metadata": {},
   "source": [
    "А теперь делим на общее количество твитов и умножаем на 100, чтобы получить процент удаленных твитов, и выводим нужный нам процент (для удобства округляем вывод до двух цифр после запятой):\n"
   ]
  },
  {
   "cell_type": "code",
   "execution_count": 197,
   "metadata": {},
   "outputs": [
    {
     "name": "stdout",
     "output_type": "stream",
     "text": [
      "14.16\n"
     ]
    }
   ],
   "source": [
    "percentage_of_deleted_tweets = deleted_tweets / tweets * 100\n",
    "print(round(percentage_of_deleted_tweets, 2))"
   ]
  },
  {
   "cell_type": "markdown",
   "metadata": {},
   "source": [
    "## Третий пункт\n",
    "Создаем список из всех языков, на которых написаны твиты:"
   ]
  },
  {
   "cell_type": "code",
   "execution_count": 198,
   "metadata": {},
   "outputs": [],
   "source": [
    "languages = []\n",
    "for tweet in twitter:\n",
    "    if 'lang' in tweet.keys():\n",
    "        languages.append(tweet['lang'])"
   ]
  },
  {
   "cell_type": "markdown",
   "metadata": {},
   "source": [
    "Теперь делаем Counter из списка языков и выводим 10 самых популярных языков:"
   ]
  },
  {
   "cell_type": "code",
   "execution_count": 199,
   "metadata": {},
   "outputs": [
    {
     "name": "stdout",
     "output_type": "stream",
     "text": [
      "en\t719\n",
      "ja\t438\n",
      "es\t173\n",
      "ko\t149\n",
      "th\t123\n",
      "ar\t119\n",
      "und\t117\n",
      "in\t71\n",
      "pt\t69\n",
      "fr\t35\n"
     ]
    }
   ],
   "source": [
    "import collections\n",
    "\n",
    "languages_counter = collections.Counter(languages)\n",
    "language_place = 0\n",
    "while language_place < 10:\n",
    "    print(languages_counter.most_common()[language_place][0] + '\\t' + str(languages_counter.most_common()[language_place][1]))\n",
    "    language_place += 1"
   ]
  },
  {
   "cell_type": "markdown",
   "metadata": {},
   "source": [
    "## Четвертый пункт\n",
    "Создаем список из id всех авторов твитов:"
   ]
  },
  {
   "cell_type": "code",
   "execution_count": 200,
   "metadata": {},
   "outputs": [],
   "source": [
    "users = []\n",
    "for tweet in twitter:\n",
    "    if 'user' in tweet.keys():\n",
    "        users.append(tweet['user']['id'])"
   ]
  },
  {
   "cell_type": "markdown",
   "metadata": {},
   "source": [
    "Теперь делаем Counter из списка id авторов твитов и смотрим, у какого количества пользователей есть больше чем один твит, выводим это число:"
   ]
  },
  {
   "cell_type": "code",
   "execution_count": 201,
   "metadata": {},
   "outputs": [
    {
     "name": "stdout",
     "output_type": "stream",
     "text": [
      "25\n"
     ]
    }
   ],
   "source": [
    "users_counter = collections.Counter(users)\n",
    "multiple_tweets = []\n",
    "for i in range(len(users_counter.most_common())):\n",
    "    if users_counter.most_common()[i][1] > 1:\n",
    "        multiple_tweets.append(users_counter.most_common()[i][0])\n",
    "print(len(multiple_tweets))"
   ]
  },
  {
   "cell_type": "markdown",
   "metadata": {},
   "source": [
    "## Пятый пункт\n",
    "Сначала создаем список из списков, в которых хранится информация о хэштегах в каждом из твитов:"
   ]
  },
  {
   "cell_type": "code",
   "execution_count": 202,
   "metadata": {},
   "outputs": [],
   "source": [
    "hashtag_lists = []\n",
    "for tweet in twitter:\n",
    "    if 'entities' in tweet.keys():\n",
    "        hashtag_lists.append(tweet['entities']['hashtags'])"
   ]
  },
  {
   "cell_type": "markdown",
   "metadata": {},
   "source": [
    "Теперь проверяем эту информацию. Если в твите нет хэштега, то единица в hashtag_lists, соответствующая этому твиту, будет являться пустым списком. Если в твите есть хэштег(и), то единица в hashtag_lists будет являться списком из словарей, а каждый словарь будет соответствовать одному хэштегу. Достаем из этих словарей значение у ключа \"text\", которое и является текстом хэштега. Заносим все хэштеги в список."
   ]
  },
  {
   "cell_type": "code",
   "execution_count": 203,
   "metadata": {},
   "outputs": [],
   "source": [
    "hashtags = []\n",
    "for i in range(len(hashtag_lists)):\n",
    "    for g in hashtag_lists[i]:\n",
    "        if type(g) == dict:\n",
    "            hashtags.append(g['text'])"
   ]
  },
  {
   "cell_type": "markdown",
   "metadata": {},
   "source": [
    "Теперь делаем Counter из списка хэштегов и выводим топ-20 самых популярных:"
   ]
  },
  {
   "cell_type": "code",
   "execution_count": 204,
   "metadata": {},
   "outputs": [
    {
     "name": "stdout",
     "output_type": "stream",
     "text": [
      "BTS\t17\n",
      "방탄소년단\t13\n",
      "AMAs\t11\n",
      "人気投票ガチャ\t8\n",
      "태형\t7\n",
      "뷔\t6\n",
      "BTSinChicago\t5\n",
      "BTSLoveYourselfTour\t5\n",
      "오늘의방탄\t5\n",
      "PledgeForSwachhBharat\t5\n",
      "MPN\t5\n",
      "PCAs\t4\n",
      "V\t4\n",
      "시카고1회차공연\t4\n",
      "เป๊กผลิตโชค\t4\n",
      "JIMIN\t4\n",
      "running\t3\n",
      "NCT\t3\n",
      "지민\t3\n",
      "WajahmuPlastik\t3\n"
     ]
    }
   ],
   "source": [
    "hashtags_counter = collections.Counter(hashtags)\n",
    "hashtag_place = 0\n",
    "while hashtag_place < 20:\n",
    "    print(hashtags_counter.most_common()[hashtag_place][0] + '\\t' + str(hashtags_counter.most_common()[hashtag_place][1]))\n",
    "    hashtag_place += 1"
   ]
  },
  {
   "cell_type": "markdown",
   "metadata": {},
   "source": [
    "## Шестой пункт\n",
    "Сначала достаем все твиты на английском языке, которые не являются ретвитами или твитами-цитатами:"
   ]
  },
  {
   "cell_type": "code",
   "execution_count": 205,
   "metadata": {},
   "outputs": [],
   "source": [
    "tweet_texts = []\n",
    "for tweet in twitter:\n",
    "    if 'retweeted_status' not in tweet.keys():\n",
    "        if 'quoted_status' not in tweet.keys():\n",
    "            if 'text' in tweet.keys() and tweet['lang'] == 'en':\n",
    "                tweet_texts.append(tweet['text'])"
   ]
  },
  {
   "cell_type": "markdown",
   "metadata": {},
   "source": [
    "## Седьмой пункт\n",
    "Сначала делаем список из списков, где первое значение списка-элемента – юзернейм, а второе значение списка-элемента – число подписчиков:"
   ]
  },
  {
   "cell_type": "code",
   "execution_count": 206,
   "metadata": {},
   "outputs": [],
   "source": [
    "followers = []\n",
    "for i in twitter:\n",
    "    if 'user' in i.keys():\n",
    "        followers.append([i['user']['screen_name'], i['user']['followers_count']])"
   ]
  },
  {
   "cell_type": "markdown",
   "metadata": {},
   "source": [
    "Теперь нужно сделать так, чтобы один и тот же пользователь не встречался два раза:"
   ]
  },
  {
   "cell_type": "code",
   "execution_count": null,
   "metadata": {},
   "outputs": [],
   "source": []
  },
  {
   "cell_type": "markdown",
   "metadata": {},
   "source": [
    "Сортируем список по второму значению в списке-элементе:"
   ]
  },
  {
   "cell_type": "code",
   "execution_count": 207,
   "metadata": {},
   "outputs": [],
   "source": [
    "followers.sort(key=lambda x: int(x[1]), reverse=True)"
   ]
  },
  {
   "cell_type": "markdown",
   "metadata": {},
   "source": [
    "Выводим десять пользователей с самым большим количеством подписчиков:"
   ]
  },
  {
   "cell_type": "code",
   "execution_count": 208,
   "metadata": {},
   "outputs": [
    {
     "name": "stdout",
     "output_type": "stream",
     "text": [
      "FIL0S0FIA\t2521403\n",
      "FitnessMagazine\t1491309\n",
      "malaysiakini\t1206759\n",
      "NYTScience\t1137374\n",
      "GramaticaReal\t625463\n",
      "GramaticaReal\t625463\n",
      "tgrthabertv\t392472\n",
      "TheSunFootball\t383698\n",
      "Melbourne\t374222\n",
      "Roznama_Express\t318189\n"
     ]
    }
   ],
   "source": [
    "place = 0\n",
    "while place < 10:\n",
    "    print(str(followers[place][0]) +'\\t' + str(followers[place][1]))\n",
    "    place += 1"
   ]
  },
  {
   "cell_type": "markdown",
   "metadata": {},
   "source": [
    "## Восьмой пункт"
   ]
  }
 ],
 "metadata": {
  "kernelspec": {
   "display_name": "Python 3",
   "language": "python",
   "name": "python3"
  },
  "language_info": {
   "codemirror_mode": {
    "name": "ipython",
    "version": 3
   },
   "file_extension": ".py",
   "mimetype": "text/x-python",
   "name": "python",
   "nbconvert_exporter": "python",
   "pygments_lexer": "ipython3",
   "version": "3.6.7"
  }
 },
 "nbformat": 4,
 "nbformat_minor": 2
}
